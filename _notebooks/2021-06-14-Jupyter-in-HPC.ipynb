{
 "cells": [
  {
   "cell_type": "markdown",
   "metadata": {},
   "source": [
    "# Jupyter in HPC\n",
    "> Get your Jupyter Notebook Running in the HPC from the RWTH\n",
    "\n",
    "- toc: true \n",
    "- badges: true\n",
    "- comments: true\n",
    "- categories: [jupyter]\n",
    "- image: images/chart-preview.png"
   ]
  },
  {
   "cell_type": "markdown",
   "metadata": {},
   "source": [
    "## Create an account\n",
    "The first thing that we need is to get access to the HPC.\n",
    "WiMas have the right to use it, but we need to create an account\n",
    "So, go to the [Identity Manager - Selfservice](https://idm.rwth-aachen.de/selfservice/) and there click on:\n",
    "> Account and Passwords  / Create Account\n",
    "\n",
    "And there select:  _New Account: Hochleistungsrechnen RWTH Aachen_\n",
    "\n",
    "After that change your password"
   ]
  },
  {
   "cell_type": "markdown",
   "metadata": {},
   "source": [
    "## Connect to the HPC\n",
    "\n",
    "ITC explains [how to connect](https://help.itc.rwth-aachen.de/service/rhr4fjjutttf/article/10c8f0d9b0064013aa439f0b504cc806/)\n",
    "\n",
    "But once you have your account, go to your command window / Anaconda Prompt and type:\n",
    "\n",
    "```ssh -l <your_userid> login18-1.hpc.itc.rwth-aachen.de```\n",
    "\n",
    "Your user ID should be like **ab123456**\n"
   ]
  },
  {
   "cell_type": "markdown",
   "metadata": {},
   "source": [
    "## Install Jupyter"
   ]
  },
  {
   "cell_type": "markdown",
   "metadata": {},
   "source": [
    "From there on we will follow [this tutorial](https://help.itc.rwth-aachen.de/service/rhr4fjjutttf/article/387ec8d754244084aee155b5a54e9d70/)"
   ]
  },
  {
   "cell_type": "markdown",
   "metadata": {
    "ExecuteTime": {
     "end_time": "2021-06-14T14:44:48.792897Z",
     "start_time": "2021-06-14T14:44:48.781216Z"
    }
   },
   "source": [
    "First we install jupyter notebook there\n",
    "\n",
    "```\n",
    "# Load the latest python\n",
    "$ module switch intel gcc\n",
    "$ module load python/3.8.7\n",
    "\n",
    "# Install jupyter as local user\n",
    "$ pip3 install --user  jupyter\n",
    "\n",
    "# Do some tests!\n",
    "$ python3 -c \"import jupyter; print ('Juputer    ', jupyter.__version__)\"\n",
    "$ pip3 -vvv list  | grep jupy\n",
    "```"
   ]
  },
  {
   "cell_type": "markdown",
   "metadata": {},
   "source": [
    "You might want to update pip to the last version\n",
    "\n",
    "```python3 -m pip install --upgrade pip```"
   ]
  },
  {
   "cell_type": "markdown",
   "metadata": {
    "heading_collapsed": true
   },
   "source": [
    "## Starting the Notebook Server in a batch job"
   ]
  },
  {
   "cell_type": "markdown",
   "metadata": {
    "hidden": true
   },
   "source": [
    "If you are not familiar with VIM this is a little bit annoying, so here I leave you a couple of links that helped me\n",
    "\n",
    "- [Changing modes](https://linuxhint.com/vim_modes/)\n",
    "\n",
    "- [Copy-Paste](https://linuxize.com/post/how-to-copy-cut-paste-in-vim/)\n",
    "\n",
    "- [Saving a file](https://linuxize.com/post/how-to-save-file-in-vim-quit-editor/)"
   ]
  },
  {
   "cell_type": "markdown",
   "metadata": {
    "hidden": true
   },
   "source": [
    "With the command `vi jobscript.sh` we create a file for submitting a jupyter-notebook server as a slurm batch job. \n",
    "\n",
    "_You didn't understand a single word of that? No problem me neither, but just follow the steps._"
   ]
  },
  {
   "cell_type": "markdown",
   "metadata": {
    "hidden": true
   },
   "source": [
    "The following is a template for the batch-job file, and probably there is no need to change it, so just copy it\n",
    "\n",
    "```\n",
    "#!/usr/local_rwth/bin/zsh\n",
    "\n",
    "#SBATCH --ntasks-per-node=1\n",
    "#SBATCH --mem-per-cpu=8G\n",
    "#SBATCH --time=1-0:00:00\n",
    "#SBATCH --job-name=jupyter-notebook\n",
    "#SBATCH --output=jupyter-notebook-%J.log\n",
    "\n",
    "# Load the same python as used for installation\n",
    "module load python/3.8.7\n",
    "\n",
    "# get tunneling info\n",
    "XDG_RUNTIME_DIR=\"\"\n",
    "port=$(shuf -i8000-9999 -n1)\n",
    "node=$(hostname -s)\n",
    "PYTHON_USER_BASE=$(python3.6 -m site --user-base)\n",
    "\n",
    "# start Juputer Notebook. Remember: it will be active during the job run time only!\n",
    "$PYTHON_USER_BASE/bin/jupyter-notebook --no-browser --port=${port} --ip=${node}\n",
    "```\n",
    "\n",
    "Then go to the prompt and to paste it in your file you need to:\n",
    "\n",
    "Press `i` to go into **Insert mode**\n",
    "\n",
    "Press `Right click` to paste the template\n",
    "\n",
    "Press `Esc` to go into the **Edit Mode** \n",
    "\n",
    "Type `:wq` to save the file and close the vim editor."
   ]
  },
  {
   "cell_type": "markdown",
   "metadata": {
    "hidden": true
   },
   "source": [
    "Finally submit your batch file with the command:\n",
    "\n",
    "```sbatch jobscript.sh```"
   ]
  },
  {
   "cell_type": "markdown",
   "metadata": {},
   "source": [
    "## (Optional) Check if the job is running"
   ]
  },
  {
   "cell_type": "markdown",
   "metadata": {},
   "source": [
    "Run:\n",
    "\n",
    "```squeue -u$(whoami) ```\n",
    "\n",
    "You will see an \"R\" in the ST or status column for your notebook job if it is running. If you see a \"PD\" in the status column, you will have to wait for your job to start running to connect. The log file with information about how to connect will be in the directory you submitted the script from, and be named jupyter-notebook-[jobid].log where jobid is the slurm id for your job."
   ]
  },
  {
   "cell_type": "markdown",
   "metadata": {},
   "source": [
    "##  Connect to the notebook"
   ]
  },
  {
   "cell_type": "markdown",
   "metadata": {},
   "source": [
    "Get [fastX](https://help.itc.rwth-aachen.de/service/rhr4fjjutttf/article/25f576374f984c888bb2a01487fef193/)"
   ]
  },
  {
   "cell_type": "markdown",
   "metadata": {},
   "source": [
    "(Tutorial)[https://help.itc.rwth-aachen.de/service/rhr4fjjutttf/article/25f576374f984c888bb2a01487fef193/]"
   ]
  },
  {
   "cell_type": "markdown",
   "metadata": {},
   "source": [
    "``` ```"
   ]
  },
  {
   "cell_type": "markdown",
   "metadata": {},
   "source": [
    "``` ```"
   ]
  },
  {
   "cell_type": "markdown",
   "metadata": {},
   "source": [
    "Code\n",
    "\n",
    "``` ```"
   ]
  },
  {
   "cell_type": "code",
   "execution_count": null,
   "metadata": {},
   "outputs": [],
   "source": []
  }
 ],
 "metadata": {
  "hide_input": false,
  "kernelspec": {
   "display_name": "Walze",
   "language": "python",
   "name": "walze"
  },
  "language_info": {
   "codemirror_mode": {
    "name": "ipython",
    "version": 3
   },
   "file_extension": ".py",
   "mimetype": "text/x-python",
   "name": "python",
   "nbconvert_exporter": "python",
   "pygments_lexer": "ipython3",
   "version": "3.8.10"
  },
  "latex_envs": {
   "LaTeX_envs_menu_present": true,
   "autoclose": false,
   "autocomplete": true,
   "bibliofile": "biblio.bib",
   "cite_by": "apalike",
   "current_citInitial": 1,
   "eqLabelWithNumbers": true,
   "eqNumInitial": 1,
   "hotkeys": {
    "equation": "Ctrl-E",
    "itemize": "Ctrl-I"
   },
   "labels_anchors": false,
   "latex_user_defs": false,
   "report_style_numbering": false,
   "user_envs_cfg": false
  },
  "toc": {
   "base_numbering": 1,
   "nav_menu": {},
   "number_sections": true,
   "sideBar": true,
   "skip_h1_title": false,
   "title_cell": "Table of Contents",
   "title_sidebar": "Contents",
   "toc_cell": false,
   "toc_position": {},
   "toc_section_display": true,
   "toc_window_display": false
  },
  "varInspector": {
   "cols": {
    "lenName": 16,
    "lenType": 16,
    "lenVar": 40
   },
   "kernels_config": {
    "python": {
     "delete_cmd_postfix": "",
     "delete_cmd_prefix": "del ",
     "library": "var_list.py",
     "varRefreshCmd": "print(var_dic_list())"
    },
    "r": {
     "delete_cmd_postfix": ") ",
     "delete_cmd_prefix": "rm(",
     "library": "var_list.r",
     "varRefreshCmd": "cat(var_dic_list()) "
    }
   },
   "types_to_exclude": [
    "module",
    "function",
    "builtin_function_or_method",
    "instance",
    "_Feature"
   ],
   "window_display": false
  }
 },
 "nbformat": 4,
 "nbformat_minor": 2
}
